{
 "cells": [
  {
   "cell_type": "markdown",
   "metadata": {},
   "source": [
    "# 350 book 1\n",
    "\n",
    "This is a jupyter notebook illustrating the importation and display of an .abf file\n",
    "\n",
    "It requires installation of neo (pip install neo).\n",
    "\n",
    "To execute each cell and advance to the next, hit shift+enter."
   ]
  },
  {
   "cell_type": "code",
   "execution_count": null,
   "metadata": {},
   "outputs": [],
   "source": [
    "import neo\n",
    "import matplotlib.pyplot as pl\n",
    "\n",
    "%matplotlib notebook\n",
    "#this will display plots inline.  You could also use a different argument (e.g. osx) to display in a new window"
   ]
  },
  {
   "cell_type": "markdown",
   "metadata": {},
   "source": [
    "Neo can load the .abf file into a hierarchical data structure.\n",
    "\n",
    "You can read more about the data structure here: https://pythonhosted.org/neo/io.html#introduction"
   ]
  },
  {
   "cell_type": "code",
   "execution_count": null,
   "metadata": {},
   "outputs": [],
   "source": [
    "# specify the location and name of the data file\n",
    "data_file = 'sample.abf'\n",
    "\n",
    "# load the data file into Python.  you can ignore the warning this throws off.\n",
    "r = neo.AxonIO(filename=data_file)\n",
    "block = r.read_block()\n",
    "segment = block.segments[0]"
   ]
  },
  {
   "cell_type": "code",
   "execution_count": null,
   "metadata": {},
   "outputs": [],
   "source": [
    "# read out the 2 signals of interest\n",
    "#\n",
    "\n",
    "nerve,muscle = segment.analogsignals\n",
    "\n",
    "# if you only had one channel, load it like this: nerve = segment.analogsignals[0]"
   ]
  },
  {
   "cell_type": "code",
   "execution_count": null,
   "metadata": {},
   "outputs": [],
   "source": [
    "# extract properties, such as units and sampling rate, from the signals\n",
    "nerve_unit = nerve.units.dimensionality.string\n",
    "muscle_unit = muscle.units.dimensionality.string\n",
    "sample_period = nerve.sampling_period\n",
    "sample_period_unit = sample_period.units.simplified.dimensionality.string"
   ]
  },
  {
   "cell_type": "code",
   "execution_count": null,
   "metadata": {},
   "outputs": [],
   "source": [
    "# create a figure with 2 axes, one for nerve and one for muscle\n",
    "fig,axs = pl.subplots(2, 1, sharex=True)"
   ]
  },
  {
   "cell_type": "markdown",
   "metadata": {},
   "source": [
    "Now load your data into the plots.  Play with the pan functionality and/or zoom to window button to view a stretch of data that makes sense (maybe a second or two).  The two panes will be locked to the same X range but scale Y independently."
   ]
  },
  {
   "cell_type": "code",
   "execution_count": null,
   "metadata": {},
   "outputs": [],
   "source": [
    "# plot nerve\n",
    "axs[0].plot(nerve.times, nerve, color='steelblue')\n",
    "axs[0].set_ylabel('Voltage ({})'.format(nerve_unit))\n",
    "axs[0].set_title('Nerve')\n",
    "\n",
    "# plot muscle\n",
    "axs[1].plot(muscle.times, muscle, color='orange')\n",
    "axs[1].set_ylabel('Voltage ({})'.format(muscle_unit))\n",
    "axs[1].set_xlabel('Time ({})'.format(sample_period_unit))\n",
    "axs[1].set_title('Muscle')"
   ]
  },
  {
   "cell_type": "markdown",
   "metadata": {},
   "source": [
    "If you want to load a smaller range of the data to begin with (say, because of those artifacts that you don't want to emphasize, or because you don't want to include the time it takes your high pass filter to bring your signal to zero), you can take a slice of the time and voltage traces."
   ]
  },
  {
   "cell_type": "code",
   "execution_count": null,
   "metadata": {},
   "outputs": [],
   "source": [
    "fig,axs = pl.subplots(2, 1, sharex=True)\n",
    "\n",
    "axs[0].plot(nerve.times[370001:390000], nerve[370001:390000], color='steelblue')\n",
    "axs[1].plot(muscle.times[370001:390000], muscle[370001:390000], color='orange')"
   ]
  }
 ],
 "metadata": {
  "anaconda-cloud": {},
  "kernelspec": {
   "display_name": "Python 3",
   "language": "python",
   "name": "python3"
  },
  "language_info": {
   "codemirror_mode": {
    "name": "ipython",
    "version": 3
   },
   "file_extension": ".py",
   "mimetype": "text/x-python",
   "name": "python",
   "nbconvert_exporter": "python",
   "pygments_lexer": "ipython3",
   "version": "3.6.5"
  }
 },
 "nbformat": 4,
 "nbformat_minor": 2
}
